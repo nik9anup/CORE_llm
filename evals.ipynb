{
  "cells": [
    {
      "cell_type": "code",
      "execution_count": 94,
      "metadata": {
        "colab": {
          "base_uri": "https://localhost:8080/"
        },
        "id": "ogumOiI9GOCi",
        "outputId": "0607ba58-99b6-4576-bc11-b3ab9a594893"
      },
      "outputs": [
        {
          "name": "stdout",
          "output_type": "stream",
          "text": [
            "fatal: destination path 'CodeXGLUE' already exists and is not an empty directory.\n",
            "[Errno 2] No such file or directory: 'CodeXGLUE/Code-Code/CodeBLEU'\n",
            "/home/vishal/Projects/llm_for_code_review/CORE_llm\n"
          ]
        },
        {
          "name": "stderr",
          "output_type": "stream",
          "text": [
            "/home/vishal/.local/lib/python3.10/site-packages/IPython/core/magics/osm.py:393: UserWarning: This is now an optional IPython functionality, using bookmarks requires you to install the `pickleshare` library.\n",
            "  bkms = self.shell.db.get('bookmarks', {})\n"
          ]
        }
      ],
      "source": [
        "# Clone the CodeXGLUE repository\n",
        "!git clone https://github.com/microsoft/CodeXGLUE.git\n",
        "\n",
        "# Navigate to the CodeBLEU directory\n",
        "%cd CodeXGLUE/Code-Code/CodeBLEU\n"
      ]
    },
    {
      "cell_type": "code",
      "execution_count": 95,
      "metadata": {},
      "outputs": [],
      "source": [
        "with open('go_code_in.go', 'r') as f_in:\n",
        "    input_code = f_in.read()\n",
        "\n",
        "with open('go_code_out.go', 'r') as f_out:\n",
        "    candidate_code = f_out.read()\n",
        "\n",
        "with open('go_code_ref.go', 'r') as f_ref:\n",
        "    reference_code = f_ref.read()"
      ]
    },
    {
      "cell_type": "code",
      "execution_count": 96,
      "metadata": {
        "colab": {
          "base_uri": "https://localhost:8080/"
        },
        "id": "ZW81SBtkEZrk",
        "outputId": "79631078-d4ce-4d06-b5da-ada416559ac9"
      },
      "outputs": [
        {
          "name": "stdout",
          "output_type": "stream",
          "text": [
            "CodeBLEU score for candidate 1: 0.8086\n"
          ]
        }
      ],
      "source": [
        "import sys\n",
        "sys.path.append('/content/CodeXGLUE/Code-Code/CodeBLEU')\n",
        "from codebleu import bleu\n",
        "\n",
        "# Your provided code snippets\n",
        "reference_texts = [reference_code]\n",
        "\n",
        "candidate_texts = [candidate_code]\n",
        "\n",
        "# Calculate CodeBLEU score\n",
        "def calculate_codebleu(reference_texts, candidate_texts):\n",
        "    weights = [0.25, 0.25, 0.25, 0.25]\n",
        "    lang = 'go'\n",
        "\n",
        "    scores = []\n",
        "    for ref, cand in zip(reference_texts, candidate_texts):\n",
        "        code_bleu_score = bleu.corpus_bleu([[ref]], [cand], weights)\n",
        "        scores.append(code_bleu_score)\n",
        "\n",
        "    return scores\n",
        "\n",
        "# Calculate CodeBLEU scores\n",
        "codebleu_scores = calculate_codebleu(reference_texts, candidate_texts)\n",
        "\n",
        "# Print CodeBLEU scores\n",
        "for i, score in enumerate(codebleu_scores):\n",
        "    print(f\"CodeBLEU score for candidate {i+1}: {score:.4f}\")\n"
      ]
    },
    {
      "cell_type": "code",
      "execution_count": 97,
      "metadata": {
        "colab": {
          "base_uri": "https://localhost:8080/"
        },
        "id": "lfNWKDN-KgTT",
        "outputId": "bb11b9f5-e8ad-429f-b8c1-734709bf6f8a"
      },
      "outputs": [
        {
          "name": "stdout",
          "output_type": "stream",
          "text": [
            "Cosine Similarity Score: 0.9072751917045446\n",
            "Jaccard Similarity Score: 0.7777777777777778\n",
            "Levenshtein Distance Score: 0.812235294117647\n"
          ]
        },
        {
          "name": "stderr",
          "output_type": "stream",
          "text": [
            "[nltk_data] Downloading package punkt to /home/vishal/nltk_data...\n",
            "[nltk_data]   Package punkt is already up-to-date!\n",
            "[nltk_data] Downloading package stopwords to /home/vishal/nltk_data...\n",
            "[nltk_data]   Package stopwords is already up-to-date!\n"
          ]
        }
      ],
      "source": [
        "import ast\n",
        "import astor\n",
        "import nltk\n",
        "from sklearn.feature_extraction.text import TfidfVectorizer\n",
        "from sklearn.metrics.pairwise import cosine_similarity\n",
        "from nltk.tokenize import word_tokenize\n",
        "from nltk.corpus import stopwords\n",
        "import numpy as np\n",
        "import Levenshtein\n",
        "\n",
        "nltk.download('punkt')\n",
        "nltk.download('stopwords')\n",
        "\n",
        "def tokenize_code(code):\n",
        "    tokens = word_tokenize(code)\n",
        "    tokens = [token for token in tokens if token.isalnum()]\n",
        "    return tokens\n",
        "\n",
        "def cosine_similarity_score(code1, code2):\n",
        "    vectorizer = TfidfVectorizer().fit_transform([code1, code2])\n",
        "    vectors = vectorizer.toarray()\n",
        "    return cosine_similarity(vectors)[0, 1]\n",
        "\n",
        "def jaccard_similarity_score(code1, code2):\n",
        "    tokens1 = set(tokenize_code(code1))\n",
        "    tokens2 = set(tokenize_code(code2))\n",
        "    intersection = tokens1.intersection(tokens2)\n",
        "    union = tokens1.union(tokens2)\n",
        "    return len(intersection) / len(union)\n",
        "\n",
        "def levenshtein_distance_score(code1, code2):\n",
        "    return Levenshtein.ratio(code1, code2)\n",
        "\n",
        "def tree_edit_distance_score(code1, code2):\n",
        "    tree1 = ast.parse(code1)\n",
        "    tree2 = ast.parse(code2)\n",
        "    return compute_tree_edit_distance(tree1, tree2)\n",
        "\n",
        "def compute_tree_edit_distance(tree1, tree2):\n",
        "    # Simplified tree edit distance calculation\n",
        "    def node_label(node):\n",
        "        return type(node).__name__\n",
        "\n",
        "    def children(node):\n",
        "        return [child for child in ast.iter_child_nodes(node)]\n",
        "\n",
        "    def simple_tree_edit_distance(tree1, tree2):\n",
        "        label1 = node_label(tree1)\n",
        "        label2 = node_label(tree2)\n",
        "        if label1 != label2:\n",
        "            return 1 + max(len(children(tree1)), len(children(tree2)))\n",
        "        return sum(simple_tree_edit_distance(c1, c2) for c1, c2 in zip(children(tree1), children(tree2)))\n",
        "\n",
        "    return simple_tree_edit_distance(tree1, tree2)\n",
        "\n",
        "\n",
        "# Calculate and print scores\n",
        "print(\"Cosine Similarity Score:\", cosine_similarity_score(reference_code, candidate_code))\n",
        "print(\"Jaccard Similarity Score:\", jaccard_similarity_score(reference_code, candidate_code))\n",
        "print(\"Levenshtein Distance Score:\", levenshtein_distance_score(reference_code, candidate_code))\n"
      ]
    },
    {
      "cell_type": "code",
      "execution_count": 98,
      "metadata": {
        "colab": {
          "base_uri": "https://localhost:8080/"
        },
        "id": "uoxoJo3jUxXe",
        "outputId": "289b84b9-6458-4a41-96dd-539f6d768cf1"
      },
      "outputs": [
        {
          "name": "stdout",
          "output_type": "stream",
          "text": [
            "Cosine Similarity Score: 0.8879618576461086\n",
            "Jaccard Similarity Score: 0.85\n",
            "Levenshtein Distance Score: 0.834059022738268\n"
          ]
        },
        {
          "name": "stderr",
          "output_type": "stream",
          "text": [
            "[nltk_data] Downloading package punkt to /home/vishal/nltk_data...\n",
            "[nltk_data]   Package punkt is already up-to-date!\n",
            "[nltk_data] Downloading package stopwords to /home/vishal/nltk_data...\n",
            "[nltk_data]   Package stopwords is already up-to-date!\n"
          ]
        }
      ],
      "source": [
        "import ast\n",
        "import astor\n",
        "import nltk\n",
        "from sklearn.feature_extraction.text import TfidfVectorizer\n",
        "from sklearn.metrics.pairwise import cosine_similarity\n",
        "from nltk.tokenize import word_tokenize\n",
        "import Levenshtein\n",
        "\n",
        "nltk.download('punkt')\n",
        "nltk.download('stopwords')\n",
        "\n",
        "def tokenize_code(code):\n",
        "    tokens = word_tokenize(code)\n",
        "    tokens = [token for token in tokens if token.isalnum()]\n",
        "    return tokens\n",
        "\n",
        "def cosine_similarity_score(code1, code2):\n",
        "    vectorizer = TfidfVectorizer().fit_transform([code1, code2])\n",
        "    vectors = vectorizer.toarray()\n",
        "    return cosine_similarity(vectors)[0, 1]\n",
        "\n",
        "def jaccard_similarity_score(code1, code2):\n",
        "    tokens1 = set(tokenize_code(code1))\n",
        "    tokens2 = set(tokenize_code(code2))\n",
        "    intersection = tokens1.intersection(tokens2)\n",
        "    union = tokens1.union(tokens2)\n",
        "    return len(intersection) / len(union)\n",
        "\n",
        "def levenshtein_distance_score(code1, code2):\n",
        "    return Levenshtein.ratio(code1, code2)\n",
        "\n",
        "def clean_code(code):\n",
        "    # Remove comments and ensure no unterminated strings\n",
        "    return '\\n'.join([line for line in code.split('\\n') if not line.strip().startswith('//') and not line.strip().startswith('#')])\n",
        "\n",
        "def tree_edit_distance_score(code1, code2):\n",
        "    try:\n",
        "        tree1 = ast.parse(clean_code(code1))\n",
        "        tree2 = ast.parse(clean_code(code2))\n",
        "    except SyntaxError:\n",
        "        return float('inf')  # Return an infinite distance if parsing fails\n",
        "\n",
        "    def simple_tree_edit_distance(tree1, tree2):\n",
        "        label1 = type(tree1).__name__\n",
        "        label2 = type(tree2).__name__\n",
        "        if label1 != label2:\n",
        "            return 1 + max(len(list(ast.iter_child_nodes(tree1))), len(list(ast.iter_child_nodes(tree2))))\n",
        "        return sum(simple_tree_edit_distance(c1, c2) for c1, c2 in zip(list(ast.iter_child_nodes(tree1)), list(ast.iter_child_nodes(tree2))))\n",
        "\n",
        "    return simple_tree_edit_distance(tree1, tree2)\n",
        "\n",
        "\n",
        "# Clean the code (remove comments and ensure no unterminated strings)\n",
        "cleaned_reference = clean_code(reference_code)\n",
        "cleaned_candidate = clean_code(candidate_code)\n",
        "\n",
        "# Calculate and print scores\n",
        "print(\"Cosine Similarity Score:\", cosine_similarity_score(cleaned_reference, cleaned_candidate))\n",
        "print(\"Jaccard Similarity Score:\", jaccard_similarity_score(cleaned_reference, cleaned_candidate))\n",
        "print(\"Levenshtein Distance Score:\", levenshtein_distance_score(cleaned_reference, cleaned_candidate))"
      ]
    },
    {
      "cell_type": "code",
      "execution_count": 99,
      "metadata": {
        "colab": {
          "base_uri": "https://localhost:8080/"
        },
        "id": "vz1k5OqOYwoX",
        "outputId": "e1182315-d224-4f00-b2f9-734b9b039053"
      },
      "outputs": [
        {
          "name": "stdout",
          "output_type": "stream",
          "text": [
            "Structural Similarity Score: 0.5468235294117647\n"
          ]
        }
      ],
      "source": [
        "from difflib import SequenceMatcher\n",
        "\n",
        "# Function to calculate structural similarity using SequenceMatcher\n",
        "def structural_similarity(code1, code2):\n",
        "    return SequenceMatcher(None, code1, code2).ratio()\n",
        "\n",
        "# Calculate structural similarity between the reference and candidate Go code\n",
        "similarity_score = structural_similarity(reference_code, candidate_code)\n",
        "print(\"Structural Similarity Score:\", similarity_score)\n"
      ]
    }
  ],
  "metadata": {
    "colab": {
      "provenance": [],
      "toc_visible": true
    },
    "kernelspec": {
      "display_name": "Python 3",
      "name": "python3"
    },
    "language_info": {
      "codemirror_mode": {
        "name": "ipython",
        "version": 3
      },
      "file_extension": ".py",
      "mimetype": "text/x-python",
      "name": "python",
      "nbconvert_exporter": "python",
      "pygments_lexer": "ipython3",
      "version": "3.10.12"
    }
  },
  "nbformat": 4,
  "nbformat_minor": 0
}
