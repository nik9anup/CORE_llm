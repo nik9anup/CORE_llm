{
 "cells": [
  {
   "cell_type": "code",
   "execution_count": 36,
   "id": "e0bc7987",
   "metadata": {},
   "outputs": [],
   "source": [
    "!pip install -q llama-index-llms-gemini"
   ]
  },
  {
   "cell_type": "code",
   "execution_count": 37,
   "id": "32b73d0c",
   "metadata": {},
   "outputs": [],
   "source": [
    "!pip install -q llama-index google-generativeai"
   ]
  },
  {
   "cell_type": "code",
   "execution_count": 38,
   "id": "e0d8c7f4",
   "metadata": {},
   "outputs": [],
   "source": [
    "!pip install -q llama-index-embeddings-gemini"
   ]
  },
  {
   "cell_type": "code",
   "execution_count": 39,
   "id": "1d04dcd0",
   "metadata": {},
   "outputs": [],
   "source": [
    "!pip install -q chromadb"
   ]
  },
  {
   "cell_type": "code",
   "execution_count": 40,
   "id": "5529f9ac",
   "metadata": {},
   "outputs": [],
   "source": [
    "!pip install -q llama-index-vector-stores-chroma"
   ]
  },
  {
   "cell_type": "code",
   "execution_count": 1,
   "id": "1cff2749",
   "metadata": {},
   "outputs": [],
   "source": [
    "!pip install -q llama-index-llms-anthropic"
   ]
  },
  {
   "cell_type": "code",
   "execution_count": 29,
   "id": "575e6395",
   "metadata": {},
   "outputs": [],
   "source": [
    "import os\n",
    "import chromadb\n",
    "\n",
    "os.environ[\"ANTHROPIC_API_KEY\"] = \"\"\n",
    "os.environ[\"GOOGLE_API_KEY\"] = \"\""
   ]
  },
  {
   "cell_type": "code",
   "execution_count": 30,
   "id": "995eff21",
   "metadata": {},
   "outputs": [],
   "source": [
    "from llama_index.embeddings.gemini import GeminiEmbedding\n",
    "from llama_index.core import Settings\n",
    "from llama_index.core import VectorStoreIndex, SimpleDirectoryReader\n",
    "from llama_index.llms.gemini import Gemini\n",
    "from llama_index.llms.anthropic import Anthropic\n",
    "from llama_index.core import StorageContext\n",
    "from llama_index.vector_stores.chroma import ChromaVectorStore\n",
    "from llama_index.core.retrievers import VectorIndexRetriever\n"
   ]
  },
  {
   "cell_type": "code",
   "execution_count": 31,
   "id": "a3c7eaa2",
   "metadata": {},
   "outputs": [],
   "source": [
    "from llama_index.core import VectorStoreIndex, SimpleDirectoryReader\n",
    "\n",
    "chroma_client = chromadb.PersistentClient(path=\"./main\")\n",
    "chroma_collection = chroma_client.get_or_create_collection(\"astchroma\")\n",
    "documents = SimpleDirectoryReader('data').load_data() "
   ]
  },
  {
   "cell_type": "code",
   "execution_count": 32,
   "id": "2fca7d74",
   "metadata": {},
   "outputs": [],
   "source": [
    "from llama_index.core.node_parser import CodeSplitter"
   ]
  },
  {
   "cell_type": "code",
   "execution_count": 33,
   "id": "36407a4d",
   "metadata": {},
   "outputs": [],
   "source": [
    "import tree_sitter_go as tsgo\n",
    "from tree_sitter import Language, Parser\n",
    "# Define the Go language and parser\n",
    "GO_LANGUAGE = Language(tsgo.language())\n",
    "parser = Parser(GO_LANGUAGE)\n",
    "parser.language = GO_LANGUAGE "
   ]
  },
  {
   "cell_type": "code",
   "execution_count": 34,
   "id": "07a40556",
   "metadata": {},
   "outputs": [],
   "source": [
    "splitter = CodeSplitter.from_defaults(language='go',parser=parser)\n",
    "\n"
   ]
  },
  {
   "cell_type": "code",
   "execution_count": 35,
   "id": "acee2913",
   "metadata": {},
   "outputs": [],
   "source": [
    "from llama_index.core import PromptTemplate\n",
    "\n",
    "text_qa_template_str = ( \n",
    "       \"\"\"\n",
    "You are a code refactoring assistant specialised in golang. Your task is to review the provided code and suggest using appropriate functions from the language's standard library or popular packages to make the code more concise and efficient, while maintaining its functionality.\\n\n",
    "Do not include any reasoning, comments or text in the output except the code.\\n\n",
    "Do not include any other function that isn't there in the query. \\n\n",
    "Kindly use package main BEFORE the imported packages. \\n\n",
    "\n",
    "\n",
    "input code snippet: \\n\n",
    "{query_str}\n",
    "\n",
    "\n",
    "\n",
    "\"\"\"\n",
    "     )\n",
    "text_qa_template = PromptTemplate(text_qa_template_str)"
   ]
  },
  {
   "cell_type": "code",
   "execution_count": 36,
   "id": "b2e7044a",
   "metadata": {},
   "outputs": [],
   "source": [
    "import extract_relevant_part\n",
    "import code_to_ast"
   ]
  },
  {
   "cell_type": "code",
   "execution_count": 37,
   "id": "37fb2448",
   "metadata": {},
   "outputs": [
    {
     "name": "stdout",
     "output_type": "stream",
     "text": [
      "['package main\\n', 'import (\\n\\t\"fmt\"\\n\\t\"strings\"\\n)\\n', 'func subtract(a, b int) int {\\n\\treturn a - b\\n}']\n",
      "\n",
      "\n",
      "\n",
      "['package main\\n', 'import (\\n\\t\"fmt\"\\n\\t\"strings\"\\n)\\n', 'func multiply(a, b int) int {\\n\\treturn a * b\\n}']\n",
      "\n",
      "\n",
      "\n",
      "['package main\\n', 'import (\\n\\t\"fmt\"\\n\\t\"strings\"\\n)\\n', 'func main() {\\n\\t// Arithmetic functions\\n\\tfmt.Println(\"Add 10 + 5 =\", add(10, 5))\\n\\tfmt.Println(\"Subtract 10 - 5 =\", subtract(10, 5))\\n\\tfmt.Println(\"Multiply 10 * 5 =\", multiply(10, 5))\\n\\n\\t// Sum array\\n\\tnums := []int{1, 2, 3, 4, 5}\\n\\tfmt.Println(\"Sum of array =\", sumArray(nums))\\n\\n\\t// String functions\\n\\ts := \"hello world\"\\n\\tfmt.Println(\"Capitalized:\", capitalize(s))\\n\\tfmt.Println(\"Reversed:\", reverse(s))\\n\\tfmt.Println(\"Capitalized and Reversed:\", capitalizeAndReverse(s))\\n\\n\\t// Struct and method\\n\\tp := Person{FirstName: \"John\", LastName: \"Doe\", Age: 30}\\n\\tfmt.Println(\"Full Name:\", p.FullName())\\n\\tfmt.Println(p.Introduce())\\n}']\n",
      "\n",
      "\n",
      "\n",
      "['package main\\n', 'import (\\n\\t\"fmt\"\\n\\t\"strings\"\\n)\\n', 'func sumArray(arr []int) int {\\n\\tsum := 0\\n\\tfor _, num := range arr {\\n\\t\\tsum = add(sum, num)\\n\\t}\\n\\treturn sum\\n}', 'func add(a, b int) int {\\n\\treturn a + b\\n}']\n",
      "\n",
      "\n",
      "\n",
      "['package main\\n', 'import (\\n\\t\"fmt\"\\n\\t\"strings\"\\n)\\n', 'func capitalizeAndReverse(s string) string {\\n\\tcapitalized := capitalize(s)\\n\\treturn reverse(capitalized)\\n}', 'func capitalize(s string) string {\\n\\treturn strings.Title(s)\\n}', 'func reverse(s string) string {\\n\\trunes := []rune(s)\\n\\tfor i, j := 0, len(runes)-1; i < j; i, j = i+1, j-1 {\\n\\t\\trunes[i], runes[j] = runes[j], runes[i]\\n\\t}\\n\\treturn string(runes)\\n}']\n",
      "\n",
      "\n",
      "\n",
      "['package main\\n', 'import (\\n\\t\"fmt\"\\n\\t\"strings\"\\n)\\n', 'func (p Person) Introduce() string {\\n\\treturn fmt.Sprintf(\"Hello, my name is %s and I am %d years old.\", p.FullName(), p.Age)\\n}', 'type Person struct {\\n\\tFirstName string\\n\\tLastName  string\\n\\tAge       int\\n}', 'func (p Person) FullName() string {\\n\\treturn p.FirstName + \" \" + p.LastName\\n}']\n",
      "\n",
      "\n",
      "\n"
     ]
    }
   ],
   "source": [
    "with open (\"go_code_in.go\", \"r\") as f_in:\n",
    "    go_code_in = f_in.read()\n",
    "\n",
    "go_codes_out = extract_relevant_part.get_relevant_part(go_code_in, parser)\n",
    "for go_code_out in go_codes_out:\n",
    "    print(go_code_out)\n",
    "    print(\"\\n\\n\")\n"
   ]
  },
  {
   "cell_type": "code",
   "execution_count": 38,
   "id": "8fd56fe2",
   "metadata": {},
   "outputs": [],
   "source": [
    "tokenizer = Anthropic().tokenizer"
   ]
  },
  {
   "cell_type": "code",
   "execution_count": 39,
   "id": "d8e0db23",
   "metadata": {},
   "outputs": [],
   "source": [
    "llm = Anthropic(model=\"claude-3-haiku-20240307\")\n",
    "embed_model = GeminiEmbedding(model_name=\"models/text-embedding-004\")\n"
   ]
  },
  {
   "cell_type": "code",
   "execution_count": 40,
   "id": "a57f5d44",
   "metadata": {},
   "outputs": [],
   "source": [
    "vector_store = ChromaVectorStore(chroma_collection=chroma_collection)\n",
    "storage_context = StorageContext.from_defaults(vector_store=vector_store)\n",
    "index = VectorStoreIndex.from_vector_store(\n",
    "    vector_store,\n",
    "    embed_model=embed_model,\n",
    "    transformations=[splitter]\n",
    ")"
   ]
  },
  {
   "cell_type": "code",
   "execution_count": 41,
   "id": "b3c6b4b7",
   "metadata": {},
   "outputs": [],
   "source": [
    "query_engine = index.as_query_engine(text_qa_template=text_qa_template,llm=llm)"
   ]
  },
  {
   "cell_type": "code",
   "execution_count": 42,
   "id": "d84935ec",
   "metadata": {},
   "outputs": [
    {
     "name": "stdout",
     "output_type": "stream",
     "text": [
      "package main\n",
      "\n",
      "import (\n",
      "\t\"fmt\"\n",
      "\t\"strings\"\n",
      ")\n",
      "\n",
      "func subtract(a, b int) int {\n",
      "\treturn a - b\n",
      "}\n",
      "\n",
      "\n",
      "\n",
      "\n",
      "package main\n",
      "\n",
      "import (\n",
      "\t\"fmt\"\n",
      "\t\"strings\"\n",
      ")\n",
      "\n",
      "func multiply(a, b int) int {\n",
      "\treturn a * b\n",
      "}\n",
      "\n",
      "\n",
      "\n",
      "\n",
      "package main\n",
      "\n",
      "import (\n",
      "\t\"fmt\"\n",
      "\t\"strings\"\n",
      ")\n",
      "\n",
      "func add(a, b int) int {\n",
      "\treturn a + b\n",
      "}\n",
      "\n",
      "func subtract(a, b int) int {\n",
      "\treturn a - b\n",
      "}\n",
      "\n",
      "func multiply(a, b int) int {\n",
      "\treturn a * b\n",
      "}\n",
      "\n",
      "func sumArray(nums []int) int {\n",
      "\tvar sum int\n",
      "\tfor _, num := range nums {\n",
      "\t\tsum += num\n",
      "\t}\n",
      "\treturn sum\n",
      "}\n",
      "\n",
      "func capitalize(s string) string {\n",
      "\treturn strings.Title(s)\n",
      "}\n",
      "\n",
      "func reverse(s string) string {\n",
      "\trunes := []rune(s)\n",
      "\tfor i, j := 0, len(runes)-1; i < j; i, j = i+1, j-1 {\n",
      "\t\trunes[i], runes[j] = runes[j], runes[i]\n",
      "\t}\n",
      "\treturn string(runes)\n",
      "}\n",
      "\n",
      "func capitalizeAndReverse(s string) string {\n",
      "\treturn reverse(strings.Title(s))\n",
      "}\n",
      "\n",
      "type Person struct {\n",
      "\tFirstName string\n",
      "\tLastName  string\n",
      "\tAge       int\n",
      "}\n",
      "\n",
      "func (p *Person) FullName() string {\n",
      "\treturn p.FirstName + \" \" + p.LastName\n",
      "}\n",
      "\n",
      "func (p *Person) Introduce() string {\n",
      "\treturn fmt.Sprintf(\"Hello, my name is %s and I am %d years old.\", p.FullName(), p.Age)\n",
      "}\n",
      "\n",
      "func main() {\n",
      "\t// Arithmetic functions\n",
      "\tfmt.Println(\"Add 10 + 5 =\", add(10, 5))\n",
      "\tfmt.Println(\"Subtract 10 - 5 =\", subtract(10, 5))\n",
      "\tfmt.Println(\"Multiply 10 * 5 =\", multiply(10, 5))\n",
      "\n",
      "\t// Sum array\n",
      "\tnums := []int{1, 2, 3, 4, 5}\n",
      "\tfmt.Println(\"Sum of array =\", sumArray(nums))\n",
      "\n",
      "\t// String functions\n",
      "\ts := \"hello world\"\n",
      "\tfmt.Println(\"Capitalized:\", capitalize(s))\n",
      "\tfmt.Println(\"\n",
      "\n",
      "\n",
      "\n",
      "\n",
      "package main\n",
      "\n",
      "import (\n",
      "\t\"fmt\"\n",
      "\t\"strings\"\n",
      ")\n",
      "\n",
      "func sumArray(arr []int) int {\n",
      "\treturn sum(arr)\n",
      "}\n",
      "\n",
      "func sum(nums []int) int {\n",
      "\tvar total int\n",
      "\tfor _, n := range nums {\n",
      "\t\ttotal += n\n",
      "\t}\n",
      "\treturn total\n",
      "}\n",
      "\n",
      "\n",
      "\n",
      "\n",
      "package main\n",
      "\n",
      "import (\n",
      "\t\"fmt\"\n",
      "\t\"strings\"\n",
      ")\n",
      "\n",
      "func capitalizeAndReverse(s string) string {\n",
      "\treturn strings.Title(s)[::-1]\n",
      "}\n",
      "\n",
      "func capitalize(s string) string {\n",
      "\treturn strings.Title(s)\n",
      "}\n",
      "\n",
      "func reverse(s string) string {\n",
      "\treturn s[::-1]\n",
      "}\n",
      "\n",
      "\n",
      "\n",
      "\n",
      "package main\n",
      "\n",
      "import (\n",
      "\t\"fmt\"\n",
      "\t\"strings\"\n",
      ")\n",
      "\n",
      "func (p Person) Introduce() string {\n",
      "\treturn fmt.Sprintf(\"Hello, my name is %s and I am %d years old.\", p.FullName(), p.Age)\n",
      "}\n",
      "\n",
      "type Person struct {\n",
      "\tFirstName string\n",
      "\tLastName  string\n",
      "\tAge       int\n",
      "}\n",
      "\n",
      "func (p Person) FullName() string {\n",
      "\treturn strings.Join([]string{p.FirstName, p.LastName}, \" \")\n",
      "}\n",
      "\n",
      "\n",
      "\n",
      "\n"
     ]
    }
   ],
   "source": [
    "result = []\n",
    "for go_code_out in go_codes_out:\n",
    "    query_str = \"\".join(go_code_out)\n",
    "    response=query_engine.query(query_str)\n",
    "    print(response.response)\n",
    "    result.append(response.response)\n",
    "    print(\"\\n\\n\\n\")\n"
   ]
  },
  {
   "cell_type": "code",
   "execution_count": 43,
   "id": "522b80d6",
   "metadata": {},
   "outputs": [],
   "source": [
    "text_qa_template_str_1 = \"\"\"Make one meaningful and concise go language snippet by combining all the code snippets you have received in the query. \\n\\n\n",
    "Do not include any reasoning, comments or text in the output except the code.\\n\"\"\"\n",
    "\n",
    "text_qa_template_1 = PromptTemplate(text_qa_template_str_1)"
   ]
  },
  {
   "cell_type": "code",
   "execution_count": 44,
   "id": "a99a0f4b",
   "metadata": {},
   "outputs": [],
   "source": [
    "query_engine_1 = index.as_query_engine(text_qa_template=text_qa_template_1,llm=llm)"
   ]
  },
  {
   "cell_type": "code",
   "execution_count": 45,
   "id": "dd71e427",
   "metadata": {},
   "outputs": [
    {
     "name": "stdout",
     "output_type": "stream",
     "text": [
      "package main\n",
      "\n",
      "import (\n",
      "\t\"fmt\"\n",
      "\t\"math/rand\"\n",
      "\t\"time\"\n",
      ")\n",
      "\n",
      "func main() {\n",
      "\trand.Seed(time.Now().UnixNano())\n",
      "\tnumbers := make([]int, 10)\n",
      "\tfor i := range numbers {\n",
      "\t\tnumbers[i] = rand.Intn(100)\n",
      "\t}\n",
      "\tfmt.Println(numbers)\n",
      "\tsort(numbers)\n",
      "\tfmt.Println(numbers)\n",
      "}\n",
      "\n",
      "func sort(nums []int) {\n",
      "\tfor i := 0; i < len(nums); i++ {\n",
      "\t\tfor j := i + 1; j < len(nums); j++ {\n",
      "\t\t\tif nums[i] > nums[j] {\n",
      "\t\t\t\tnums[i], nums[j] = nums[j], nums[i]\n",
      "\t\t\t}\n",
      "\t\t}\n",
      "\t}\n",
      "}\n"
     ]
    }
   ],
   "source": [
    "query_str_1 = str(result)\n",
    "response = query_engine_1.query(query_str_1)\n",
    "print(response.response)"
   ]
  }
 ],
 "metadata": {
  "kernelspec": {
   "display_name": "Python 3 (ipykernel)",
   "language": "python",
   "name": "python3"
  },
  "language_info": {
   "codemirror_mode": {
    "name": "ipython",
    "version": 3
   },
   "file_extension": ".py",
   "mimetype": "text/x-python",
   "name": "python",
   "nbconvert_exporter": "python",
   "pygments_lexer": "ipython3",
   "version": "3.10.12"
  }
 },
 "nbformat": 4,
 "nbformat_minor": 5
}
