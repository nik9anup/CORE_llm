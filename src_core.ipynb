{
 "cells": [
  {
   "cell_type": "code",
   "execution_count": 36,
   "id": "e0bc7987",
   "metadata": {},
   "outputs": [],
   "source": [
    "!pip install -q llama-index-llms-gemini"
   ]
  },
  {
   "cell_type": "code",
   "execution_count": 37,
   "id": "32b73d0c",
   "metadata": {},
   "outputs": [],
   "source": [
    "!pip install -q llama-index google-generativeai"
   ]
  },
  {
   "cell_type": "code",
   "execution_count": 38,
   "id": "e0d8c7f4",
   "metadata": {},
   "outputs": [],
   "source": [
    "!pip install -q llama-index-embeddings-gemini"
   ]
  },
  {
   "cell_type": "code",
   "execution_count": 39,
   "id": "1d04dcd0",
   "metadata": {},
   "outputs": [],
   "source": [
    "!pip install -q chromadb"
   ]
  },
  {
   "cell_type": "code",
   "execution_count": 40,
   "id": "5529f9ac",
   "metadata": {},
   "outputs": [],
   "source": [
    "!pip install -q llama-index-vector-stores-chroma"
   ]
  },
  {
   "cell_type": "code",
   "execution_count": 1,
   "id": "1cff2749",
   "metadata": {},
   "outputs": [],
   "source": [
    "!pip install -q llama-index-llms-anthropic"
   ]
  },
  {
   "cell_type": "code",
   "execution_count": 2,
   "id": "575e6395",
   "metadata": {},
   "outputs": [],
   "source": [
    "import os\n",
    "import chromadb\n",
    "\n",
    "os.environ[\"ANTHROPIC_API_KEY\"] = \"Anthropic\"\n",
    "os.environ[\"GOOGLE_API_KEY\"] = \"Google\""
   ]
  },
  {
   "cell_type": "code",
   "execution_count": 3,
   "id": "995eff21",
   "metadata": {},
   "outputs": [],
   "source": [
    "from llama_index.embeddings.gemini import GeminiEmbedding\n",
    "from llama_index.core import Settings\n",
    "from llama_index.core import VectorStoreIndex, SimpleDirectoryReader\n",
    "from llama_index.llms.gemini import Gemini\n",
    "from llama_index.llms.anthropic import Anthropic\n",
    "from llama_index.core import StorageContext\n",
    "from llama_index.vector_stores.chroma import ChromaVectorStore\n",
    "from llama_index.core.retrievers import VectorIndexRetriever\n"
   ]
  },
  {
   "cell_type": "code",
   "execution_count": 21,
   "id": "a3c7eaa2",
   "metadata": {},
   "outputs": [],
   "source": [
    "from llama_index.core import VectorStoreIndex, SimpleDirectoryReader\n",
    "\n",
    "chroma_client = chromadb.PersistentClient(path=\"./main\")\n",
    "chroma_collection = chroma_client.get_or_create_collection(\"astchroma\")\n",
    "documents = SimpleDirectoryReader('data').load_data() "
   ]
  },
  {
   "cell_type": "code",
   "execution_count": 22,
   "id": "2fca7d74",
   "metadata": {},
   "outputs": [],
   "source": [
    "from llama_index.core.node_parser import CodeSplitter"
   ]
  },
  {
   "cell_type": "code",
   "execution_count": 23,
   "id": "36407a4d",
   "metadata": {},
   "outputs": [],
   "source": [
    "import tree_sitter_go as tsgo\n",
    "from tree_sitter import Language, Parser\n",
    "# Define the Go language and parser\n",
    "GO_LANGUAGE = Language(tsgo.language())\n",
    "parser = Parser(GO_LANGUAGE)\n",
    "parser.language = GO_LANGUAGE "
   ]
  },
  {
   "cell_type": "code",
   "execution_count": 24,
   "id": "07a40556",
   "metadata": {},
   "outputs": [],
   "source": [
    "splitter = CodeSplitter.from_defaults(language='go',parser=parser)\n",
    "\n"
   ]
  },
  {
   "cell_type": "code",
   "execution_count": 69,
   "id": "acee2913",
   "metadata": {},
   "outputs": [],
   "source": [
    "from llama_index.core import PromptTemplate\n",
    "\n",
    "text_qa_template_str = ( \n",
    "       \"\"\"\n",
    "You are a code refactoring assistant specialised in golang. Your task is to review the provided code and suggest using appropriate functions from the language's standard library or popular packages to make the code more concise and efficient, while maintaining its functionality.\\n\n",
    "Do not include any reasoning, comments or text in the output except the code.\\n\n",
    "Do not include a main function. \\n\n",
    "Kindly use package main BEFORE the imported packages. \\n\n",
    "\n",
    "Here is an example for your reference in which the manual parsing and validation of JSON is made concise using json.Unmarshal() function from encoding/json library while maintaining functionality and semantics:  \\n\n",
    "\n",
    "Example Input:\n",
    "package main\n",
    "\n",
    "import (\n",
    "    \"fmt\"\n",
    "    \"errors\"\n",
    "    \"strings\"\n",
    ")\n",
    "\n",
    "func parseAndValidateJSON(jsonStr string) (map[string]string, error) {{\n",
    "    jsonStr = removeWhitespace(jsonStr)\n",
    "\n",
    "    if !startsWith(jsonStr, \"{{\") || !endsWith(jsonStr, \"}}\") {{\n",
    "        return nil, errors.New(\"invalid JSON format\")\n",
    "    }}\n",
    "\n",
    "    jsonStr = removeBraces(jsonStr)\n",
    "\n",
    "    pairs := splitIntoPairs(jsonStr)\n",
    "    result := make(map[string]string)\n",
    "\n",
    "    for _, pair := range pairs {{\n",
    "        kv := splitKeyValue(pair)\n",
    "        if len(kv) != 2 {{\n",
    "            return nil, errors.New(\"invalid key-value pair\")\n",
    "        }}\n",
    "\n",
    "        key := removeQuotes(kv[0])\n",
    "        value := removeQuotes(kv[1])\n",
    "\n",
    "        if key == \"\" {{\n",
    "            return nil, errors.New(\"invalid key\")\n",
    "        }}\n",
    "\n",
    "        result[key] = value\n",
    "    }}\n",
    "\n",
    "    return result, nil\n",
    "}}\n",
    "\n",
    "// Helper functions (simulated std library functions)\n",
    "func removeWhitespace(str string) string {{\n",
    "    return strings.ReplaceAll(str, \" \", \"\")\n",
    "}}\n",
    "\n",
    "func startsWith(str, prefix string) bool {{\n",
    "    return strings.HasPrefix(str, prefix)\n",
    "}}\n",
    "\n",
    "func endsWith(str, suffix string) bool {{\n",
    "    return strings.HasSuffix(str, suffix)\n",
    "}}\n",
    "\n",
    "func removeBraces(str string) string {{\n",
    "    return str[1 : len(str)-1]\n",
    "}}\n",
    "\n",
    "func splitIntoPairs(str string) []string {{\n",
    "    return strings.Split(str, \",\")\n",
    "}}\n",
    "\n",
    "func splitKeyValue(str string) []string {{\n",
    "    return strings.Split(str, \":\")\n",
    "}}\n",
    "\n",
    "func removeQuotes(str string) string {{\n",
    "    return strings.Trim(str, \"\\\"\")\n",
    "}}\n",
    "\n",
    "\n",
    "Example Output:\n",
    "\n",
    "package main\n",
    "\n",
    "import (\n",
    "    \"fmt\"\n",
    "    \"encoding/json\"\n",
    ")\n",
    "\n",
    "func parseAndValidateJSON(jsonStr string) (map[string]string, error) {{\n",
    "    var data map[string]string\n",
    "    if err := json.Unmarshal([]byte(jsonStr), &data); err != nil {{\n",
    "        return nil, errors.New(\"invalid JSON format\")\n",
    "    }}\n",
    "    return data, nil\n",
    "}}\n",
    "\n",
    "input code snippet: \\n\n",
    "{query_str}\n",
    "\n",
    "\n",
    "\n",
    "\"\"\"\n",
    "     )\n",
    "text_qa_template = PromptTemplate(text_qa_template_str)"
   ]
  },
  {
   "cell_type": "code",
   "execution_count": 62,
   "id": "b2e7044a",
   "metadata": {},
   "outputs": [],
   "source": [
    "import extract_relevant_part\n",
    "import code_to_ast"
   ]
  },
  {
   "cell_type": "code",
   "execution_count": 75,
   "id": "37fb2448",
   "metadata": {},
   "outputs": [
    {
     "name": "stdout",
     "output_type": "stream",
     "text": [
      "package main\n",
      "import (\n",
      "    \"fmt\"\n",
      "    \"strconv\"\n",
      ")\n",
      "func main() {\n",
      "    input := \" 1, 2, 3, 4, 5 \"\n",
      "    result, ok := parseAndCalculateSum(input)\n",
      "    if !ok {\n",
      "        fmt.Println(\"Error: invalid input format\")\n",
      "        return\n",
      "    }\n",
      "    fmt.Println(\"Sum of squares:\", result)\n",
      "}\n",
      "func parseAndCalculateSum(input string) (int, bool) {\n",
      "\n",
      "    input = trimWhitespace(input)\n",
      "    if input == \"\" {\n",
      "        return 0, false\n",
      "    }\n",
      "\n",
      "    \n",
      "    var numbers []int\n",
      "    var numStr string\n",
      "    inNumber := false\n",
      "\n",
      "    for _, ch := range input {\n",
      "        if ch >= '0' && ch <= '9' {\n",
      "            numStr += string(ch)\n",
      "            inNumber = true\n",
      "        } else if inNumber {\n",
      "            num, err := atoi(numStr)\n",
      "            if err != nil {\n",
      "                return 0, false\n",
      "            }\n",
      "            numbers = append(numbers, num)\n",
      "            numStr = \"\"\n",
      "            inNumber = false\n",
      "        }\n",
      "    }\n",
      "\n",
      "    \n",
      "    sum := 0\n",
      "    for _, num := range numbers {\n",
      "        square := num * num\n",
      "        sum += square\n",
      "    }\n",
      "\n",
      "    return sum, true\n",
      "}\n",
      "func trimWhitespace(str string) string {\n",
      "    \n",
      "    start, end := 0, len(str)-1\n",
      "    for start <= end && (str[start] == ' ' || str[start] == '\\t' || str[start] == '\\n' || str[start] == '\\r') {\n",
      "        start++\n",
      "    }\n",
      "    for end >= start && (str[end] == ' ' || str[end] == '\\t' || str[end] == '\\n' || str[end] == '\\r') {\n",
      "        end--\n",
      "    }\n",
      "    return str[start : end+1]\n",
      "}\n",
      "func atoi(str string) (int, bool) {\n",
      "    num, err := strconv.Atoi(str)\n",
      "    if err != nil {\n",
      "        return 0, false\n",
      "    }\n",
      "    return num, true\n",
      "}\n",
      "\n",
      "\n",
      "\n"
     ]
    }
   ],
   "source": [
    "with open (\"go_code_in.go\", \"r\") as f_in:\n",
    "    go_code_in = f_in.read()\n",
    "\n",
    "query_str = \"\"\n",
    "go_codes_out = extract_relevant_part.get_relevant_part(go_code_in, parser)\n",
    "for go_code_out in go_codes_out:\n",
    "    print(go_code_out)\n",
    "    query_str = query_str + go_code_out\n",
    "    print(\"\\n\\n\")\n"
   ]
  },
  {
   "cell_type": "code",
   "execution_count": 29,
   "id": "8fd56fe2",
   "metadata": {},
   "outputs": [],
   "source": [
    "tokenizer = Anthropic().tokenizer"
   ]
  },
  {
   "cell_type": "code",
   "execution_count": 30,
   "id": "d8e0db23",
   "metadata": {},
   "outputs": [],
   "source": [
    "llm = Anthropic(model=\"claude-3-haiku-20240307\")\n",
    "embed_model = GeminiEmbedding(model_name=\"models/text-embedding-004\")\n"
   ]
  },
  {
   "cell_type": "code",
   "execution_count": 31,
   "id": "a57f5d44",
   "metadata": {},
   "outputs": [],
   "source": [
    "vector_store = ChromaVectorStore(chroma_collection=chroma_collection)\n",
    "storage_context = StorageContext.from_defaults(vector_store=vector_store)\n",
    "index = VectorStoreIndex.from_vector_store(\n",
    "    vector_store,\n",
    "    embed_model=embed_model,\n",
    "    transformations=[splitter]\n",
    ")"
   ]
  },
  {
   "cell_type": "code",
   "execution_count": 73,
   "id": "b3c6b4b7",
   "metadata": {},
   "outputs": [],
   "source": [
    "query_engine = index.as_query_engine(text_qa_template=text_qa_template,llm=llm)"
   ]
  },
  {
   "cell_type": "code",
   "execution_count": 77,
   "id": "d84935ec",
   "metadata": {},
   "outputs": [
    {
     "name": "stdout",
     "output_type": "stream",
     "text": [
      "package main\n",
      "\n",
      "import (\n",
      "    \"fmt\"\n",
      "    \"strconv\"\n",
      "    \"strings\"\n",
      ")\n",
      "\n",
      "func parseAndCalculateSum(input string) (int, bool) {\n",
      "    input = strings.TrimSpace(input)\n",
      "    if input == \"\" {\n",
      "        return 0, false\n",
      "    }\n",
      "\n",
      "    nums := strings.Split(input, \",\")\n",
      "    sum := 0\n",
      "    for _, numStr := range nums {\n",
      "        num, err := strconv.Atoi(strings.TrimSpace(numStr))\n",
      "        if err != nil {\n",
      "            return 0, false\n",
      "        }\n",
      "        sum += num * num\n",
      "    }\n",
      "\n",
      "    return sum, true\n",
      "}\n"
     ]
    }
   ],
   "source": [
    "response=query_engine.query(query_str)\n",
    "print(response.response)\n"
   ]
  }
 ],
 "metadata": {
  "kernelspec": {
   "display_name": "Python 3 (ipykernel)",
   "language": "python",
   "name": "python3"
  },
  "language_info": {
   "codemirror_mode": {
    "name": "ipython",
    "version": 3
   },
   "file_extension": ".py",
   "mimetype": "text/x-python",
   "name": "python",
   "nbconvert_exporter": "python",
   "pygments_lexer": "ipython3",
   "version": "3.10.7"
  }
 },
 "nbformat": 4,
 "nbformat_minor": 5
}
